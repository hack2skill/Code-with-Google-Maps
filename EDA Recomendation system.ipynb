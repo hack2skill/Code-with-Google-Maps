{
 "cells": [
  {
   "cell_type": "code",
   "execution_count": 2,
   "outputs": [
    {
     "name": "stdout",
     "output_type": "stream",
     "text": [
      "Recommendation 1: Sydney - Score: 0\n",
      "Recommendation 2: ibis Sydney Darling Harbour - Score: 0\n",
      "Recommendation 3: Novotel Sydney on Darling Harbour - Score: 0\n",
      "Recommendation 4: Oaks Goldsbrough Apartments - Score: 0\n",
      "Recommendation 5: The Little Snail Restaurant - Score: 0\n"
     ]
    }
   ],
   "source": [
    "import json\n",
    "\n",
    "# Load data from the JSON file\n",
    "with open('sydney.json') as f:\n",
    "    data = json.load(f)\n",
    "\n",
    "# Extract the relevant information for analysis\n",
    "results = data['results']\n",
    "for result in results:\n",
    "    name = result['name']\n",
    "    location = result['geometry']['location']\n",
    "    latitude = location['lat']\n",
    "    longitude = location['lng']\n",
    "    # You can extract and process more information as needed for recommendation\n",
    "\n",
    "# Implement a scoring mechanism based on specific criteria\n",
    "# Define weights for different parameters and calculate a score for each location\n",
    "\n",
    "# Example scoring function\n",
    "def calculate_score(latitude, longitude):\n",
    "    # Define your scoring logic here\n",
    "    score = 0\n",
    "    # Add or subtract points based on specific parameters\n",
    "    # Consider factors such as population density, income levels, competitor proximity, etc.\n",
    "    return score\n",
    "\n",
    "# Iterate through the locations and calculate scores\n",
    "scores = []\n",
    "for result in results:\n",
    "    latitude = result['geometry']['location']['lat']\n",
    "    longitude = result['geometry']['location']['lng']\n",
    "    score = calculate_score(latitude, longitude)\n",
    "    scores.append((result, score))\n",
    "\n",
    "# Sort locations based on scores\n",
    "sorted_scores = sorted(scores, key=lambda x: x[1], reverse=True)\n",
    "\n",
    "# Print the top recommendations\n",
    "num_recommendations = 5  # Number of recommendations to display\n",
    "for i in range(num_recommendations):\n",
    "    print(f\"Recommendation {i + 1}: {sorted_scores[i][0]['name']} - Score: {sorted_scores[i][1]}\")\n"
   ],
   "metadata": {
    "collapsed": false,
    "ExecuteTime": {
     "end_time": "2023-10-29T10:11:35.245875400Z",
     "start_time": "2023-10-29T10:11:35.173413600Z"
    }
   },
   "id": "8e740d9ea8cd3a8b"
  },
  {
   "cell_type": "code",
   "execution_count": 3,
   "outputs": [
    {
     "name": "stdout",
     "output_type": "stream",
     "text": [
      "Collecting folium\n",
      "  Downloading folium-0.14.0-py2.py3-none-any.whl (102 kB)\n",
      "Requirement already satisfied: jinja2>=2.9 in c:\\users\\vedant\\anaconda3\\lib\\site-packages (from folium) (3.1.2)\n",
      "Requirement already satisfied: numpy in c:\\users\\vedant\\anaconda3\\lib\\site-packages (from folium) (1.23.5)\n",
      "Collecting branca>=0.6.0\n",
      "  Downloading branca-0.6.0-py3-none-any.whl (24 kB)\n",
      "Requirement already satisfied: requests in c:\\users\\vedant\\anaconda3\\lib\\site-packages (from folium) (2.27.1)\n",
      "Requirement already satisfied: MarkupSafe>=2.0 in c:\\users\\vedant\\anaconda3\\lib\\site-packages (from jinja2>=2.9->folium) (2.0.1)\n",
      "Requirement already satisfied: idna<4,>=2.5 in c:\\users\\vedant\\anaconda3\\lib\\site-packages (from requests->folium) (3.3)\n",
      "Requirement already satisfied: charset-normalizer~=2.0.0 in c:\\users\\vedant\\anaconda3\\lib\\site-packages (from requests->folium) (2.0.4)\n",
      "Requirement already satisfied: urllib3<1.27,>=1.21.1 in c:\\users\\vedant\\anaconda3\\lib\\site-packages (from requests->folium) (1.26.17)\n",
      "Requirement already satisfied: certifi>=2017.4.17 in c:\\users\\vedant\\anaconda3\\lib\\site-packages (from requests->folium) (2021.10.8)\n",
      "Installing collected packages: branca, folium\n",
      "Successfully installed branca-0.6.0 folium-0.14.0\n"
     ]
    },
    {
     "name": "stderr",
     "output_type": "stream",
     "text": [
      "WARNING: Ignoring invalid distribution -orch (c:\\users\\vedant\\anaconda3\\lib\\site-packages)\n",
      "WARNING: Ignoring invalid distribution -orch (c:\\users\\vedant\\anaconda3\\lib\\site-packages)\n",
      "WARNING: Ignoring invalid distribution -orch (c:\\users\\vedant\\anaconda3\\lib\\site-packages)\n",
      "WARNING: Ignoring invalid distribution -orch (c:\\users\\vedant\\anaconda3\\lib\\site-packages)\n",
      "WARNING: Ignoring invalid distribution -orch (c:\\users\\vedant\\anaconda3\\lib\\site-packages)\n",
      "WARNING: Ignoring invalid distribution -orch (c:\\users\\vedant\\anaconda3\\lib\\site-packages)\n",
      "WARNING: Ignoring invalid distribution -orch (c:\\users\\vedant\\anaconda3\\lib\\site-packages)\n",
      "WARNING: Ignoring invalid distribution -orch (c:\\users\\vedant\\anaconda3\\lib\\site-packages)\n"
     ]
    }
   ],
   "source": [
    "!pip install folium"
   ],
   "metadata": {
    "collapsed": false,
    "ExecuteTime": {
     "end_time": "2023-10-29T10:12:49.227890400Z",
     "start_time": "2023-10-29T10:12:43.169190900Z"
    }
   },
   "id": "235bc7c50c4b1409"
  },
  {
   "cell_type": "code",
   "execution_count": 6,
   "outputs": [
    {
     "name": "stdout",
     "output_type": "stream",
     "text": [
      "Top Recommendation: Adina Apartment Hotel Sydney Darling Harbour\n"
     ]
    },
    {
     "data": {
      "text/plain": "True"
     },
     "execution_count": 6,
     "metadata": {},
     "output_type": "execute_result"
    }
   ],
   "source": [
    "import json\n",
    "import folium\n",
    "from folium.plugins import HeatMap\n",
    "\n",
    "# Load data from the JSON file\n",
    "with open('sydney.json') as f:\n",
    "    data = json.load(f)\n",
    "\n",
    "# Extract the relevant location data\n",
    "locations = []\n",
    "for result in data['results']:\n",
    "    location = result['geometry']['location']\n",
    "    name = result['name']\n",
    "    score = len(name)  # Example scoring based on the length of the name\n",
    "    locations.append([location['lat'], location['lng'], score])\n",
    "\n",
    "# Create a base map\n",
    "m = folium.Map(location=[-33.8688197, 151.2092955], zoom_start=12)\n",
    "\n",
    "# Create a heatmap layer\n",
    "HeatMap(locations).add_to(m)\n",
    "\n",
    "# Save the map to an HTML file\n",
    "m.save('heatmap.html')\n",
    "\n",
    "# Recommendation logic\n",
    "# Sort locations based on the score\n",
    "sorted_locations = sorted(locations, key=lambda x: x[2], reverse=True)\n",
    "\n",
    "# Display the top recommendation\n",
    "top_recommendation = sorted_locations[0]\n",
    "print(f\"Top Recommendation: {data['results'][locations.index(top_recommendation)]['name']}\")\n",
    "\n",
    "# Open the generated heatmap in a web browser\n",
    "import webbrowser\n",
    "webbrowser.open('heatmap.html')\n"
   ],
   "metadata": {
    "collapsed": false,
    "ExecuteTime": {
     "end_time": "2023-10-29T10:17:58.221049600Z",
     "start_time": "2023-10-29T10:17:57.905657300Z"
    }
   },
   "id": "f5863d524b3f7bbd"
  },
  {
   "cell_type": "code",
   "execution_count": null,
   "outputs": [],
   "source": [],
   "metadata": {
    "collapsed": false
   },
   "id": "980ad5fe495f8a23"
  }
 ],
 "metadata": {
  "kernelspec": {
   "display_name": "Python 3",
   "language": "python",
   "name": "python3"
  },
  "language_info": {
   "codemirror_mode": {
    "name": "ipython",
    "version": 2
   },
   "file_extension": ".py",
   "mimetype": "text/x-python",
   "name": "python",
   "nbconvert_exporter": "python",
   "pygments_lexer": "ipython2",
   "version": "2.7.6"
  }
 },
 "nbformat": 4,
 "nbformat_minor": 5
}
